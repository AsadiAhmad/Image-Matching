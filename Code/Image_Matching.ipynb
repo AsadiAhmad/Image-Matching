{
  "cells": [
    {
      "cell_type": "markdown",
      "metadata": {
        "id": "view-in-github",
        "colab_type": "text"
      },
      "source": [
        "<a href=\"https://colab.research.google.com/github/AsadiAhmad/Image-Matching/blob/main/Code/Image_Matching.ipynb\" target=\"_parent\"><img src=\"https://colab.research.google.com/assets/colab-badge.svg\" alt=\"Open In Colab\"/></a>"
      ]
    },
    {
      "cell_type": "markdown",
      "metadata": {
        "id": "VDKcF9uLNgDf"
      },
      "source": [
        "<div style=\"direction:rtl;text-align:right;font-family:B Lotus, B Nazanin, Tahoma\">\n",
        "findHomography سعی می کند بهترین تبدیل را بین دو مجموعه نقطه پیدا کند. از چیزی هوشمندتر از حداقل مربعات به نام RANSAC استفاده می کند که توانایی رد نقاط پرت را دارد.\n",
        "<br/>\n",
        "getPerspectiveTransform که قبلا دیدیم برای موقعیت‌هایی مفید است که فقط 4 نقطه داریم و می‌دانید که آنها درست هستند است. در واقع تابع findHomography معمولاً با مجموعه‌ای از نقاط که به طور خودکار شناسایی می‌شوند استفاده می‌شوند. چون خودکار پیدا میشوند معمولا دقت پایین تری دارند و در عوض تعداد بالاتری نقطه داریم، اما getPerspectiveTransform زمانی خوب است که 4 نقطه اما با دقت داریم، مثل علامت گذاری دستی چهار گوشه‌ی یک کاغذ!\n",
        "</div>"
      ]
    },
    {
      "cell_type": "markdown",
      "source": [
        "# Step 1: Import Libraries"
      ],
      "metadata": {
        "id": "DIPPoJBVS54A"
      }
    },
    {
      "cell_type": "code",
      "source": [
        "import numpy as np\n",
        "import cv2 as cv\n",
        "import matplotlib.pyplot as plt"
      ],
      "metadata": {
        "id": "wbJJKuU0S9NP"
      },
      "execution_count": 2,
      "outputs": []
    },
    {
      "cell_type": "markdown",
      "source": [
        "# Step 2: Download Images"
      ],
      "metadata": {
        "id": "SmB2ZIv7S9iQ"
      }
    },
    {
      "cell_type": "code",
      "source": [
        "!wget https://raw.githubusercontent.com/AsadiAhmad/Image-Matching/main/Pictures/ps5_games.jpg -O ps5_games.jpg\n",
        "!wget https://raw.githubusercontent.com/AsadiAhmad/Image-Matching/main/Pictures/gost_of_tsushima.jpg -O gost_of_tsushima.jpg"
      ],
      "metadata": {
        "colab": {
          "base_uri": "https://localhost:8080/"
        },
        "id": "MykPCm4xS_Lj",
        "outputId": "8ec8ccd1-ceff-4b73-9527-8e71df6771f2"
      },
      "execution_count": 4,
      "outputs": [
        {
          "output_type": "stream",
          "name": "stdout",
          "text": [
            "--2025-05-04 18:01:44--  https://raw.githubusercontent.com/AsadiAhmad/Image-Matching/main/Pictures/ps5_games.jpg\n",
            "Resolving raw.githubusercontent.com (raw.githubusercontent.com)... 185.199.111.133, 185.199.109.133, 185.199.108.133, ...\n",
            "Connecting to raw.githubusercontent.com (raw.githubusercontent.com)|185.199.111.133|:443... connected.\n",
            "HTTP request sent, awaiting response... 200 OK\n",
            "Length: 399324 (390K) [image/jpeg]\n",
            "Saving to: ‘ps5_games.jpg’\n",
            "\n",
            "ps5_games.jpg       100%[===================>] 389.96K  1.85MB/s    in 0.2s    \n",
            "\n",
            "2025-05-04 18:01:45 (1.85 MB/s) - ‘ps5_games.jpg’ saved [399324/399324]\n",
            "\n",
            "--2025-05-04 18:01:45--  https://raw.githubusercontent.com/AsadiAhmad/Image-Matching/main/Pictures/gost_of_tsushima.jpg\n",
            "Resolving raw.githubusercontent.com (raw.githubusercontent.com)... 185.199.108.133, 185.199.109.133, 185.199.110.133, ...\n",
            "Connecting to raw.githubusercontent.com (raw.githubusercontent.com)|185.199.108.133|:443... connected.\n",
            "HTTP request sent, awaiting response... 200 OK\n",
            "Length: 77446 (76K) [image/jpeg]\n",
            "Saving to: ‘gost_of_tsushima.jpg’\n",
            "\n",
            "gost_of_tsushima.jp 100%[===================>]  75.63K  --.-KB/s    in 0.1s    \n",
            "\n",
            "2025-05-04 18:01:45 (735 KB/s) - ‘gost_of_tsushima.jpg’ saved [77446/77446]\n",
            "\n"
          ]
        }
      ]
    },
    {
      "cell_type": "markdown",
      "source": [
        "# Step 3: Load Image"
      ],
      "metadata": {
        "id": "fR6ohxTQdutw"
      }
    },
    {
      "cell_type": "code",
      "source": [
        "query_image = cv.imread('gost_of_tsushima.jpg')\n",
        "target_image = cv.imread('ps5_games.jpg')"
      ],
      "metadata": {
        "id": "tfx5hjPpdwTM"
      },
      "execution_count": 5,
      "outputs": []
    },
    {
      "cell_type": "markdown",
      "source": [
        "# Step 4: Create the copy of the target Image"
      ],
      "metadata": {
        "id": "4FzQglPme6LQ"
      }
    },
    {
      "cell_type": "code",
      "source": [
        "result = target_image.copy()"
      ],
      "metadata": {
        "id": "N5ilHj9ce_G0"
      },
      "execution_count": null,
      "outputs": []
    },
    {
      "cell_type": "markdown",
      "source": [
        "# Step 5: Change Images Color Space into GrayScale"
      ],
      "metadata": {
        "id": "JygzLNPNfAs0"
      }
    },
    {
      "cell_type": "code",
      "source": [
        "gray_query_image = cv.cvtColor(query_image, cv.COLOR_BGR2GRAY)\n",
        "gray_target_image = cv.cvtColor(target_image, cv.COLOR_BGR2GRAY)"
      ],
      "metadata": {
        "id": "myNCF3iLfY2a"
      },
      "execution_count": null,
      "outputs": []
    },
    {
      "cell_type": "markdown",
      "source": [
        "# Step 6: Use SIFT for detecting keypoints"
      ],
      "metadata": {
        "id": "8gWe25T-gr7T"
      }
    },
    {
      "cell_type": "code",
      "source": [
        "sift = cv.SIFT_create()\n",
        "\n",
        "kp1, des1 = sift.detectAndCompute(gray_query_image, None)\n",
        "kp2, des2 = sift.detectAndCompute(gray_target_image, None)"
      ],
      "metadata": {
        "id": "bQa_bBEvhEYy"
      },
      "execution_count": null,
      "outputs": []
    }
  ],
  "metadata": {
    "anaconda-cloud": {},
    "kernelspec": {
      "display_name": "Python 3 (ipykernel)",
      "language": "python",
      "name": "python3"
    },
    "language_info": {
      "codemirror_mode": {
        "name": "ipython",
        "version": 3
      },
      "file_extension": ".py",
      "mimetype": "text/x-python",
      "name": "python",
      "nbconvert_exporter": "python",
      "pygments_lexer": "ipython3",
      "version": "3.8.10"
    },
    "colab": {
      "provenance": [],
      "include_colab_link": true
    }
  },
  "nbformat": 4,
  "nbformat_minor": 0
}